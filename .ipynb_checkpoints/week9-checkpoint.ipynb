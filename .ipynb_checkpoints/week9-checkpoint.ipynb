{
 "cells": [
  {
   "cell_type": "code",
   "execution_count": 1,
   "id": "00458ab4",
   "metadata": {
    "tags": []
   },
   "outputs": [
    {
     "name": "stderr",
     "output_type": "stream",
     "text": [
      "C:\\ProgramData\\Anaconda3\\lib\\site-packages\\scipy\\__init__.py:155: UserWarning: A NumPy version >=1.18.5 and <1.25.0 is required for this version of SciPy (detected version 1.26.2\n",
      "  warnings.warn(f\"A NumPy version >={np_minversion} and <{np_maxversion}\"\n"
     ]
    },
    {
     "name": "stdout",
     "output_type": "stream",
     "text": [
      "WARNING:tensorflow:From C:\\Users\\touit\\AppData\\Roaming\\Python\\Python39\\site-packages\\keras\\src\\losses.py:2976: The name tf.losses.sparse_softmax_cross_entropy is deprecated. Please use tf.compat.v1.losses.sparse_softmax_cross_entropy instead.\n",
      "\n"
     ]
    }
   ],
   "source": [
    "import tensorflow as tf\n",
    "from tensorflow import keras\n",
    "import numpy as np\n",
    "import tensorflow.lite as tflite\n",
    "from tensorflow.keras.preprocessing.image import load_img\n",
    "from tensorflow.keras.applications.xception import Xception\n",
    "from tensorflow.keras.applications.xception import preprocess_input\n",
    "from tensorflow.keras.applications.xception import decode_predictions\n",
    "from tensorflow.keras.preprocessing.image import ImageDataGenerator"
   ]
  },
  {
   "cell_type": "code",
   "execution_count": 2,
   "id": "2c038d81",
   "metadata": {},
   "outputs": [],
   "source": [
    "train_path = './data/train'\n",
    "test_path = './data/test'"
   ]
  },
  {
   "cell_type": "code",
   "execution_count": 3,
   "id": "ed37ca91",
   "metadata": {},
   "outputs": [
    {
     "name": "stdout",
     "output_type": "stream",
     "text": [
      "WARNING:tensorflow:From C:\\Users\\touit\\AppData\\Roaming\\Python\\Python39\\site-packages\\keras\\src\\backend.py:1398: The name tf.executing_eagerly_outside_functions is deprecated. Please use tf.compat.v1.executing_eagerly_outside_functions instead.\n",
      "\n",
      "WARNING:tensorflow:From C:\\Users\\touit\\AppData\\Roaming\\Python\\Python39\\site-packages\\keras\\src\\layers\\pooling\\max_pooling2d.py:161: The name tf.nn.max_pool is deprecated. Please use tf.nn.max_pool2d instead.\n",
      "\n"
     ]
    }
   ],
   "source": [
    "model = keras.models.load_model('bees-wasps.h5')\n"
   ]
  },
  {
   "cell_type": "code",
   "execution_count": 4,
   "id": "fec8fce9",
   "metadata": {},
   "outputs": [
    {
     "name": "stdout",
     "output_type": "stream",
     "text": [
      "INFO:tensorflow:Assets written to: C:\\Users\\touit\\AppData\\Local\\Temp\\tmphgvp8ti8\\assets\n"
     ]
    },
    {
     "name": "stderr",
     "output_type": "stream",
     "text": [
      "INFO:tensorflow:Assets written to: C:\\Users\\touit\\AppData\\Local\\Temp\\tmphgvp8ti8\\assets\n"
     ]
    }
   ],
   "source": [
    "converter = tf.lite.TFLiteConverter.from_keras_model(model)\n",
    "\n",
    "tflite_model = converter.convert()\n",
    "\n",
    "with open('bees-wasps.tflite', 'wb') as f_out:\n",
    "    f_out.write(tflite_model)"
   ]
  },
  {
   "cell_type": "code",
   "execution_count": 5,
   "id": "546ffbd7",
   "metadata": {},
   "outputs": [
    {
     "data": {
      "text/plain": [
       "44866200"
      ]
     },
     "execution_count": 5,
     "metadata": {},
     "output_type": "execute_result"
    }
   ],
   "source": [
    "import os\n",
    "os.path.getsize('./bees-wasps.tflite')"
   ]
  },
  {
   "cell_type": "code",
   "execution_count": 6,
   "id": "5c9190f1",
   "metadata": {},
   "outputs": [],
   "source": [
    "#Q1 = 44866200"
   ]
  },
  {
   "cell_type": "code",
   "execution_count": 7,
   "id": "94ce98cd",
   "metadata": {},
   "outputs": [],
   "source": [
    "interpreter = tflite.Interpreter(model_path='bees-wasps.tflite')\n",
    "interpreter.allocate_tensors()\n",
    "\n",
    "input_index = interpreter.get_input_details()[0]['index']\n",
    "output_index = interpreter.get_output_details()[0]['index']"
   ]
  },
  {
   "cell_type": "code",
   "execution_count": 8,
   "id": "c5cb886e",
   "metadata": {},
   "outputs": [
    {
     "data": {
      "text/plain": [
       "[{'name': 'serving_default_conv2d_input:0',\n",
       "  'index': 0,\n",
       "  'shape': array([  1, 150, 150,   3]),\n",
       "  'shape_signature': array([ -1, 150, 150,   3]),\n",
       "  'dtype': numpy.float32,\n",
       "  'quantization': (0.0, 0),\n",
       "  'quantization_parameters': {'scales': array([], dtype=float32),\n",
       "   'zero_points': array([], dtype=int32),\n",
       "   'quantized_dimension': 0},\n",
       "  'sparsity_parameters': {}},\n",
       " {'name': 'sequential/conv2d/BiasAdd/ReadVariableOp',\n",
       "  'index': 1,\n",
       "  'shape': array([32]),\n",
       "  'shape_signature': array([32]),\n",
       "  'dtype': numpy.float32,\n",
       "  'quantization': (0.0, 0),\n",
       "  'quantization_parameters': {'scales': array([], dtype=float32),\n",
       "   'zero_points': array([], dtype=int32),\n",
       "   'quantized_dimension': 0},\n",
       "  'sparsity_parameters': {}},\n",
       " {'name': 'sequential/conv2d/Conv2D',\n",
       "  'index': 2,\n",
       "  'shape': array([32,  3,  3,  3]),\n",
       "  'shape_signature': array([32,  3,  3,  3]),\n",
       "  'dtype': numpy.float32,\n",
       "  'quantization': (0.0, 0),\n",
       "  'quantization_parameters': {'scales': array([], dtype=float32),\n",
       "   'zero_points': array([], dtype=int32),\n",
       "   'quantized_dimension': 0},\n",
       "  'sparsity_parameters': {}},\n",
       " {'name': 'sequential/dense/BiasAdd/ReadVariableOp',\n",
       "  'index': 3,\n",
       "  'shape': array([64]),\n",
       "  'shape_signature': array([64]),\n",
       "  'dtype': numpy.float32,\n",
       "  'quantization': (0.0, 0),\n",
       "  'quantization_parameters': {'scales': array([], dtype=float32),\n",
       "   'zero_points': array([], dtype=int32),\n",
       "   'quantized_dimension': 0},\n",
       "  'sparsity_parameters': {}},\n",
       " {'name': 'sequential/dense_1/BiasAdd/ReadVariableOp',\n",
       "  'index': 4,\n",
       "  'shape': array([1]),\n",
       "  'shape_signature': array([1]),\n",
       "  'dtype': numpy.float32,\n",
       "  'quantization': (0.0, 0),\n",
       "  'quantization_parameters': {'scales': array([], dtype=float32),\n",
       "   'zero_points': array([], dtype=int32),\n",
       "   'quantized_dimension': 0},\n",
       "  'sparsity_parameters': {}},\n",
       " {'name': 'sequential/flatten/Const',\n",
       "  'index': 5,\n",
       "  'shape': array([2]),\n",
       "  'shape_signature': array([2]),\n",
       "  'dtype': numpy.int32,\n",
       "  'quantization': (0.0, 0),\n",
       "  'quantization_parameters': {'scales': array([], dtype=float32),\n",
       "   'zero_points': array([], dtype=int32),\n",
       "   'quantized_dimension': 0},\n",
       "  'sparsity_parameters': {}},\n",
       " {'name': 'sequential/dense/MatMul',\n",
       "  'index': 6,\n",
       "  'shape': array([    64, 175232]),\n",
       "  'shape_signature': array([    64, 175232]),\n",
       "  'dtype': numpy.float32,\n",
       "  'quantization': (0.0, 0),\n",
       "  'quantization_parameters': {'scales': array([], dtype=float32),\n",
       "   'zero_points': array([], dtype=int32),\n",
       "   'quantized_dimension': 0},\n",
       "  'sparsity_parameters': {}},\n",
       " {'name': 'sequential/dense_1/MatMul',\n",
       "  'index': 7,\n",
       "  'shape': array([ 1, 64]),\n",
       "  'shape_signature': array([ 1, 64]),\n",
       "  'dtype': numpy.float32,\n",
       "  'quantization': (0.0, 0),\n",
       "  'quantization_parameters': {'scales': array([], dtype=float32),\n",
       "   'zero_points': array([], dtype=int32),\n",
       "   'quantized_dimension': 0},\n",
       "  'sparsity_parameters': {}},\n",
       " {'name': 'sequential/conv2d/Relu;sequential/conv2d/BiasAdd;sequential/conv2d/Conv2D;sequential/conv2d/BiasAdd/ReadVariableOp',\n",
       "  'index': 8,\n",
       "  'shape': array([  1, 148, 148,  32]),\n",
       "  'shape_signature': array([ -1, 148, 148,  32]),\n",
       "  'dtype': numpy.float32,\n",
       "  'quantization': (0.0, 0),\n",
       "  'quantization_parameters': {'scales': array([], dtype=float32),\n",
       "   'zero_points': array([], dtype=int32),\n",
       "   'quantized_dimension': 0},\n",
       "  'sparsity_parameters': {}},\n",
       " {'name': 'sequential/max_pooling2d/MaxPool',\n",
       "  'index': 9,\n",
       "  'shape': array([ 1, 74, 74, 32]),\n",
       "  'shape_signature': array([-1, 74, 74, 32]),\n",
       "  'dtype': numpy.float32,\n",
       "  'quantization': (0.0, 0),\n",
       "  'quantization_parameters': {'scales': array([], dtype=float32),\n",
       "   'zero_points': array([], dtype=int32),\n",
       "   'quantized_dimension': 0},\n",
       "  'sparsity_parameters': {}},\n",
       " {'name': 'sequential/flatten/Reshape',\n",
       "  'index': 10,\n",
       "  'shape': array([     1, 175232]),\n",
       "  'shape_signature': array([    -1, 175232]),\n",
       "  'dtype': numpy.float32,\n",
       "  'quantization': (0.0, 0),\n",
       "  'quantization_parameters': {'scales': array([], dtype=float32),\n",
       "   'zero_points': array([], dtype=int32),\n",
       "   'quantized_dimension': 0},\n",
       "  'sparsity_parameters': {}},\n",
       " {'name': 'sequential/dense/MatMul;sequential/dense/Relu;sequential/dense/BiasAdd',\n",
       "  'index': 11,\n",
       "  'shape': array([ 1, 64]),\n",
       "  'shape_signature': array([-1, 64]),\n",
       "  'dtype': numpy.float32,\n",
       "  'quantization': (0.0, 0),\n",
       "  'quantization_parameters': {'scales': array([], dtype=float32),\n",
       "   'zero_points': array([], dtype=int32),\n",
       "   'quantized_dimension': 0},\n",
       "  'sparsity_parameters': {}},\n",
       " {'name': 'sequential/dense_1/MatMul;sequential/dense_1/BiasAdd',\n",
       "  'index': 12,\n",
       "  'shape': array([1, 1]),\n",
       "  'shape_signature': array([-1,  1]),\n",
       "  'dtype': numpy.float32,\n",
       "  'quantization': (0.0, 0),\n",
       "  'quantization_parameters': {'scales': array([], dtype=float32),\n",
       "   'zero_points': array([], dtype=int32),\n",
       "   'quantized_dimension': 0},\n",
       "  'sparsity_parameters': {}},\n",
       " {'name': 'StatefulPartitionedCall:0',\n",
       "  'index': 13,\n",
       "  'shape': array([1, 1]),\n",
       "  'shape_signature': array([-1,  1]),\n",
       "  'dtype': numpy.float32,\n",
       "  'quantization': (0.0, 0),\n",
       "  'quantization_parameters': {'scales': array([], dtype=float32),\n",
       "   'zero_points': array([], dtype=int32),\n",
       "   'quantized_dimension': 0},\n",
       "  'sparsity_parameters': {}},\n",
       " {'name': 'Conv_hwcn_weights',\n",
       "  'index': 26,\n",
       "  'shape': array([27, 32]),\n",
       "  'shape_signature': array([27, 32]),\n",
       "  'dtype': numpy.float32,\n",
       "  'quantization': (0.0, 0),\n",
       "  'quantization_parameters': {'scales': array([], dtype=float32),\n",
       "   'zero_points': array([], dtype=int32),\n",
       "   'quantized_dimension': 0},\n",
       "  'sparsity_parameters': {}}]"
      ]
     },
     "execution_count": 8,
     "metadata": {},
     "output_type": "execute_result"
    }
   ],
   "source": [
    "interpreter.get_tensor_details()"
   ]
  },
  {
   "cell_type": "code",
   "execution_count": 9,
   "id": "87dbc36b",
   "metadata": {},
   "outputs": [
    {
     "data": {
      "text/plain": [
       "{'name': 'StatefulPartitionedCall:0',\n",
       " 'index': 13,\n",
       " 'shape': array([1, 1]),\n",
       " 'shape_signature': array([-1,  1]),\n",
       " 'dtype': numpy.float32,\n",
       " 'quantization': (0.0, 0),\n",
       " 'quantization_parameters': {'scales': array([], dtype=float32),\n",
       "  'zero_points': array([], dtype=int32),\n",
       "  'quantized_dimension': 0},\n",
       " 'sparsity_parameters': {}}"
      ]
     },
     "execution_count": 9,
     "metadata": {},
     "output_type": "execute_result"
    }
   ],
   "source": [
    "interpreter.get_output_details()[0]"
   ]
  },
  {
   "cell_type": "code",
   "execution_count": 10,
   "id": "c9f2f8a5",
   "metadata": {},
   "outputs": [
    {
     "data": {
      "text/plain": [
       "0"
      ]
     },
     "execution_count": 10,
     "metadata": {},
     "output_type": "execute_result"
    }
   ],
   "source": [
    "input_index"
   ]
  },
  {
   "cell_type": "code",
   "execution_count": 11,
   "id": "d2ea505c",
   "metadata": {},
   "outputs": [
    {
     "data": {
      "text/plain": [
       "13"
      ]
     },
     "execution_count": 11,
     "metadata": {},
     "output_type": "execute_result"
    }
   ],
   "source": [
    "output_index"
   ]
  },
  {
   "cell_type": "code",
   "execution_count": 12,
   "id": "55265161",
   "metadata": {},
   "outputs": [],
   "source": [
    "#Q2 13"
   ]
  },
  {
   "cell_type": "code",
   "execution_count": 13,
   "id": "b4710b0a",
   "metadata": {},
   "outputs": [],
   "source": [
    "from io import BytesIO\n",
    "from urllib import request\n",
    "from PIL import Image\n",
    "\n",
    "def download_image(url):\n",
    "    with request.urlopen(url) as resp:\n",
    "        buffer = resp.read()\n",
    "    stream = BytesIO(buffer)\n",
    "    img = Image.open(stream)\n",
    "    return img\n",
    "\n",
    "\n",
    "def prepare_image(img, target_size):\n",
    "    if img.mode != 'RGB':\n",
    "        img = img.convert('RGB')\n",
    "    img = img.resize(target_size, Image.NEAREST)\n",
    "    return img\n",
    "\n",
    "\n",
    "def preprocess_input(x):\n",
    "    x /= 255\n",
    "    x -= 1.\n",
    "    return x"
   ]
  },
  {
   "cell_type": "code",
   "execution_count": 24,
   "id": "f746e5f2",
   "metadata": {},
   "outputs": [],
   "source": [
    "img_dl = download_image('https://habrastorage.org/webt/rt/d9/dh/rtd9dhsmhwrdezeldzoqgijdg8a.jpeg')"
   ]
  },
  {
   "cell_type": "code",
   "execution_count": 25,
   "id": "7168f466",
   "metadata": {},
   "outputs": [
    {
     "name": "stderr",
     "output_type": "stream",
     "text": [
      "C:\\Users\\touit\\AppData\\Local\\Temp\\ipykernel_22308\\3119706847.py:17: DeprecationWarning: NEAREST is deprecated and will be removed in Pillow 10 (2023-07-01). Use Resampling.NEAREST or Dither.NONE instead.\n",
      "  img = img.resize(target_size, Image.NEAREST)\n"
     ]
    }
   ],
   "source": [
    "img_prep = prepare_image(img_dl,(150,150))"
   ]
  },
  {
   "cell_type": "code",
   "execution_count": 26,
   "id": "4fcc0b0a",
   "metadata": {},
   "outputs": [],
   "source": [
    "x = np.array(img_prep, dtype='float32')\n",
    "X = np.array([x])\n",
    "\n",
    "X = preprocess_input(X)"
   ]
  },
  {
   "cell_type": "code",
   "execution_count": 27,
   "id": "40972439",
   "metadata": {},
   "outputs": [
    {
     "data": {
      "text/plain": [
       "(1, 150, 150, 3)"
      ]
     },
     "execution_count": 27,
     "metadata": {},
     "output_type": "execute_result"
    }
   ],
   "source": [
    "X.shape"
   ]
  },
  {
   "cell_type": "code",
   "execution_count": 28,
   "id": "d8ae8bfd",
   "metadata": {},
   "outputs": [
    {
     "data": {
      "text/plain": [
       "array([[[[ 0.8901961 ,  0.8117647 ,  0.7176471 ],\n",
       "         [ 0.8745098 ,  0.84313726,  0.9529412 ],\n",
       "         [ 0.827451  ,  0.79607844,  0.9137255 ],\n",
       "         ...,\n",
       "         [-0.41960782, -0.3333333 , -0.67058825],\n",
       "         [-0.30196077, -0.18431371, -0.69411767],\n",
       "         [-0.40392154, -0.27843136, -0.7647059 ]],\n",
       "\n",
       "        [[ 0.8980392 ,  0.81960785,  0.7411765 ],\n",
       "         [ 0.8352941 ,  0.81960785,  0.92156863],\n",
       "         [ 0.8039216 ,  0.7882353 ,  0.8980392 ],\n",
       "         ...,\n",
       "         [-0.45098037, -0.32549018, -0.6784314 ],\n",
       "         [-0.05882353,  0.01176476, -0.62352943],\n",
       "         [-0.09803921, -0.01176471, -0.6313726 ]],\n",
       "\n",
       "        [[ 0.85882354,  0.7647059 ,  0.6392157 ],\n",
       "         [ 0.827451  ,  0.81960785,  0.92941177],\n",
       "         [ 0.8117647 ,  0.7882353 ,  0.92156863],\n",
       "         ...,\n",
       "         [-0.35686272, -0.24705881, -0.64705884],\n",
       "         [ 0.01176476,  0.05098045, -0.5921569 ],\n",
       "         [-0.1372549 , -0.06666666, -0.5921569 ]],\n",
       "\n",
       "        ...,\n",
       "\n",
       "        [[-0.9372549 , -0.8666667 , -0.90588236],\n",
       "         [-0.9529412 , -0.827451  , -0.90588236],\n",
       "         [-0.8352941 , -0.8352941 , -0.81960785],\n",
       "         ...,\n",
       "         [-0.11372548, -0.27843136, -0.8980392 ],\n",
       "         [-0.6627451 , -0.64705884, -0.75686276],\n",
       "         [-0.7490196 , -0.6862745 , -0.77254903]],\n",
       "\n",
       "        [[-0.9372549 , -0.8666667 , -0.90588236],\n",
       "         [-0.84313726, -0.7647059 , -0.827451  ],\n",
       "         [-0.8901961 , -0.8039216 , -0.8509804 ],\n",
       "         ...,\n",
       "         [-0.35686272, -0.46666664, -0.8509804 ],\n",
       "         [-0.75686276, -0.73333335, -0.7882353 ],\n",
       "         [-0.8117647 , -0.77254903, -0.81960785]],\n",
       "\n",
       "        [[-0.9607843 , -0.92156863, -0.9529412 ],\n",
       "         [-0.827451  , -0.77254903, -0.8352941 ],\n",
       "         [-0.79607844, -0.75686276, -0.8117647 ],\n",
       "         ...,\n",
       "         [-0.67058825, -0.64705884, -0.78039217],\n",
       "         [-0.73333335, -0.6862745 , -0.7647059 ],\n",
       "         [-0.8039216 , -0.7647059 , -0.81960785]]]], dtype=float32)"
      ]
     },
     "execution_count": 28,
     "metadata": {},
     "output_type": "execute_result"
    }
   ],
   "source": [
    "X"
   ]
  },
  {
   "cell_type": "code",
   "execution_count": 29,
   "id": "bc4ce15c",
   "metadata": {},
   "outputs": [],
   "source": [
    "#Q3 = 0.7450980 ou 0.8901961 (150)"
   ]
  },
  {
   "cell_type": "code",
   "execution_count": 30,
   "id": "732a448c",
   "metadata": {},
   "outputs": [],
   "source": [
    "interpreter.set_tensor(input_index,X)\n",
    "interpreter.invoke()\n",
    "preds = interpreter.get_tensor(output_index)"
   ]
  },
  {
   "cell_type": "code",
   "execution_count": 33,
   "id": "25f68c79",
   "metadata": {},
   "outputs": [
    {
     "data": {
      "text/plain": [
       "array([[0.1389202]], dtype=float32)"
      ]
     },
     "execution_count": 33,
     "metadata": {},
     "output_type": "execute_result"
    }
   ],
   "source": [
    "preds"
   ]
  },
  {
   "cell_type": "code",
   "execution_count": null,
   "id": "e366a070",
   "metadata": {},
   "outputs": [],
   "source": [
    "#Q4 array([[0.1389202]], dtype=float32)"
   ]
  },
  {
   "cell_type": "code",
   "execution_count": null,
   "id": "64c7c439",
   "metadata": {},
   "outputs": [],
   "source": [
    "#Docker Q5 662mb"
   ]
  },
  {
   "cell_type": "code",
   "execution_count": null,
   "id": "a7252e20",
   "metadata": {},
   "outputs": [],
   "source": []
  },
  {
   "cell_type": "code",
   "execution_count": null,
   "id": "d73b2449",
   "metadata": {},
   "outputs": [],
   "source": []
  },
  {
   "cell_type": "code",
   "execution_count": null,
   "id": "591bb96b",
   "metadata": {},
   "outputs": [],
   "source": []
  },
  {
   "cell_type": "code",
   "execution_count": null,
   "id": "eca4ac3a",
   "metadata": {},
   "outputs": [],
   "source": []
  },
  {
   "cell_type": "code",
   "execution_count": null,
   "id": "231e024e",
   "metadata": {},
   "outputs": [],
   "source": []
  },
  {
   "cell_type": "code",
   "execution_count": null,
   "id": "348a75e2",
   "metadata": {},
   "outputs": [],
   "source": []
  },
  {
   "cell_type": "code",
   "execution_count": null,
   "id": "633e8230",
   "metadata": {},
   "outputs": [],
   "source": []
  },
  {
   "cell_type": "code",
   "execution_count": null,
   "id": "b0e99206",
   "metadata": {},
   "outputs": [],
   "source": []
  },
  {
   "cell_type": "code",
   "execution_count": null,
   "id": "75e994ef",
   "metadata": {},
   "outputs": [],
   "source": [
    "train_gen = ImageDataGenerator(preprocessing_function=preprocess_input)\n",
    "\n",
    "train_ds = train_gen.flow_from_directory(\n",
    "    train_path,\n",
    "    target_size=(150, 150),\n",
    "    batch_size=32\n",
    ")"
   ]
  },
  {
   "cell_type": "code",
   "execution_count": null,
   "id": "6eb2694e",
   "metadata": {},
   "outputs": [],
   "source": [
    "val_gen = ImageDataGenerator(preprocessing_function=preprocess_input)\n",
    "\n",
    "val_ds = val_gen.flow_from_directory(\n",
    "    test_path,\n",
    "    target_size=(150, 150),\n",
    "    batch_size=32,\n",
    "    shuffle=False\n",
    ")"
   ]
  },
  {
   "cell_type": "code",
   "execution_count": null,
   "id": "28403de3",
   "metadata": {},
   "outputs": [],
   "source": [
    "inputs = keras.Input(shape=(150,150,3))\n",
    "\n",
    "first_layer_conv2D = keras.layers.Conv2D(filters=32, kernel_size=(3,3), activation='relu')(inputs)\n",
    "\n",
    "first_layer_pooling = keras.layers.MaxPooling2D(pool_size=(2,2))(first_layer_conv2D)\n",
    "\n",
    "first_layer_flatten = keras.layers.Flatten()(first_layer_pooling)\n",
    "\n",
    "inner_layer = keras.layers.Dense(64,activation='relu')(first_layer_flatten)\n",
    "\n",
    "outputs = keras.layers.Dense(1, activation='sigmoid')(inner_layer)\n",
    "\n",
    "model = keras.Model(inputs, outputs)\n",
    "\n",
    "\n",
    "optimizer = keras.optimizers.SGD(lr=0.002, momentum=0.8)\n",
    "loss = keras.losses.BinaryCrossentropy()\n",
    "\n",
    "model.compile(optimizer=optimizer, loss=loss, metrics=['accuracy'])\n"
   ]
  },
  {
   "cell_type": "code",
   "execution_count": null,
   "id": "2ace96e0",
   "metadata": {},
   "outputs": [],
   "source": [
    "#Q1 \n",
    "# binary crossentropy"
   ]
  },
  {
   "cell_type": "code",
   "execution_count": null,
   "id": "c0657393",
   "metadata": {},
   "outputs": [],
   "source": [
    "#Q2"
   ]
  },
  {
   "cell_type": "code",
   "execution_count": null,
   "id": "a501d256",
   "metadata": {},
   "outputs": [],
   "source": [
    "model.summary()"
   ]
  },
  {
   "cell_type": "code",
   "execution_count": null,
   "id": "38b2b9e0",
   "metadata": {},
   "outputs": [],
   "source": [
    "# 11,215,873"
   ]
  },
  {
   "cell_type": "code",
   "execution_count": null,
   "id": "41690359",
   "metadata": {},
   "outputs": [],
   "source": [
    "#Q3"
   ]
  },
  {
   "cell_type": "code",
   "execution_count": null,
   "id": "fa04c054",
   "metadata": {},
   "outputs": [],
   "source": [
    "img_generator = ImageDataGenerator(rescale=1./255)\n",
    "\n",
    "train_generator = img_generator.flow_from_directory(\n",
    "    train_path,\n",
    "    target_size=(150, 150),\n",
    "    batch_size=20,\n",
    "    shuffle=True,\n",
    "    class_mode='binary'\n",
    ")\n",
    "\n",
    "test_generator = img_generator.flow_from_directory(\n",
    "    test_path,\n",
    "    target_size=(150, 150),\n",
    "    batch_size=20,\n",
    "    shuffle=True,\n",
    "    class_mode='binary'\n",
    "\n",
    ")\n",
    "\n",
    "history = model.fit(\n",
    "    train_generator,\n",
    "    epochs=10,\n",
    "    validation_data=test_generator\n",
    ")"
   ]
  },
  {
   "cell_type": "code",
   "execution_count": null,
   "id": "eae80ded",
   "metadata": {},
   "outputs": [],
   "source": [
    "plt.plot(history.history['accuracy'], label='train')\n",
    "plt.plot(history.history['val_accuracy'], label='val')\n",
    "plt.xticks(np.arange(10))\n",
    "plt.legend()"
   ]
  },
  {
   "cell_type": "code",
   "execution_count": null,
   "id": "fe2ef127",
   "metadata": {},
   "outputs": [],
   "source": [
    "np.median(history.history['accuracy'])"
   ]
  },
  {
   "cell_type": "code",
   "execution_count": null,
   "id": "0b1613f1",
   "metadata": {},
   "outputs": [],
   "source": [
    "# 0.7647538781166077"
   ]
  },
  {
   "cell_type": "code",
   "execution_count": null,
   "id": "dadec245",
   "metadata": {},
   "outputs": [],
   "source": [
    "#Q4"
   ]
  },
  {
   "cell_type": "code",
   "execution_count": null,
   "id": "25c68934",
   "metadata": {},
   "outputs": [],
   "source": [
    "np.std(history.history['loss'])"
   ]
  },
  {
   "cell_type": "code",
   "execution_count": null,
   "id": "8eee75d3",
   "metadata": {},
   "outputs": [],
   "source": [
    "#0.09010267966314418"
   ]
  },
  {
   "cell_type": "code",
   "execution_count": null,
   "id": "d7cf0d0f",
   "metadata": {},
   "outputs": [],
   "source": [
    "#Q5"
   ]
  },
  {
   "cell_type": "code",
   "execution_count": null,
   "id": "02ed2975",
   "metadata": {},
   "outputs": [],
   "source": [
    "img_generator = ImageDataGenerator(\n",
    "    rescale=1./255,\n",
    "    rotation_range=50,\n",
    "    width_shift_range=0.1,\n",
    "    height_shift_range=0.1,\n",
    "    zoom_range=0.1,\n",
    "    horizontal_flip=True,\n",
    "    fill_mode='nearest'\n",
    ")\n",
    "\n",
    "train_generator = img_generator.flow_from_directory(\n",
    "    train_path,\n",
    "    target_size=(150, 150),\n",
    "    batch_size=20,\n",
    "    shuffle=True,\n",
    "    class_mode='binary'\n",
    ")\n",
    "\n",
    "test_generator = img_generator.flow_from_directory(\n",
    "    test_path,\n",
    "    target_size=(150, 150),\n",
    "    batch_size=20,\n",
    "    shuffle=True,\n",
    "    class_mode='binary'\n",
    "\n",
    ")\n",
    "\n",
    "history = model.fit(\n",
    "    train_generator,\n",
    "    epochs=10,\n",
    "    validation_data=test_generator\n",
    ")"
   ]
  },
  {
   "cell_type": "code",
   "execution_count": null,
   "id": "868a8885",
   "metadata": {},
   "outputs": [],
   "source": [
    "plt.plot(history.history['accuracy'], label='train')\n",
    "plt.plot(history.history['val_accuracy'], label='val')\n",
    "plt.xticks(np.arange(10))\n",
    "plt.legend()"
   ]
  },
  {
   "cell_type": "code",
   "execution_count": null,
   "id": "9fed68de",
   "metadata": {},
   "outputs": [],
   "source": [
    "np.mean(history.history['loss'])"
   ]
  },
  {
   "cell_type": "code",
   "execution_count": null,
   "id": "dcbd9fac",
   "metadata": {},
   "outputs": [],
   "source": [
    "# 0.473125821352005"
   ]
  },
  {
   "cell_type": "code",
   "execution_count": null,
   "id": "aaf6e3f9",
   "metadata": {},
   "outputs": [],
   "source": [
    "#Q6 What's the average of test accuracy for the last 5 epochs (from 6 to 10) for the model trained with augmentations?"
   ]
  },
  {
   "cell_type": "code",
   "execution_count": null,
   "id": "e61f1445",
   "metadata": {},
   "outputs": [],
   "source": [
    "np.mean(history.history['val_accuracy'][5:])"
   ]
  },
  {
   "cell_type": "code",
   "execution_count": null,
   "id": "0a44622e",
   "metadata": {},
   "outputs": [],
   "source": [
    "# 0.7779956340789795\n"
   ]
  }
 ],
 "metadata": {
  "kernelspec": {
   "display_name": "Python 3 (ipykernel)",
   "language": "python",
   "name": "python3"
  },
  "language_info": {
   "codemirror_mode": {
    "name": "ipython",
    "version": 3
   },
   "file_extension": ".py",
   "mimetype": "text/x-python",
   "name": "python",
   "nbconvert_exporter": "python",
   "pygments_lexer": "ipython3",
   "version": "3.9.13"
  }
 },
 "nbformat": 4,
 "nbformat_minor": 5
}
