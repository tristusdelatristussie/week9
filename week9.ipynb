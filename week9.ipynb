{
 "cells": [
  {
   "cell_type": "code",
   "execution_count": null,
   "id": "00458ab4",
   "metadata": {
    "tags": []
   },
   "outputs": [],
   "source": [
    "import tensorflow as tf\n",
    "from tensorflow import keras\n",
    "import numpy as np\n",
    "import tensorflow.lite as tflite\n",
    "from tensorflow.keras.preprocessing.image import load_img\n",
    "from tensorflow.keras.applications.xception import Xception\n",
    "from tensorflow.keras.applications.xception import preprocess_input\n",
    "from tensorflow.keras.applications.xception import decode_predictions\n",
    "from tensorflow.keras.preprocessing.image import ImageDataGenerator"
   ]
  },
  {
   "cell_type": "code",
   "execution_count": null,
   "id": "2c038d81",
   "metadata": {},
   "outputs": [],
   "source": [
    "train_path = './data/train'\n",
    "test_path = './data/test'"
   ]
  },
  {
   "cell_type": "code",
   "execution_count": null,
   "id": "ed37ca91",
   "metadata": {},
   "outputs": [],
   "source": [
    "model = keras.models.load_model('bees-wasps.h5')\n"
   ]
  },
  {
   "cell_type": "code",
   "execution_count": null,
   "id": "fec8fce9",
   "metadata": {},
   "outputs": [],
   "source": [
    "converter = tf.lite.TFLiteConverter.from_keras_model(model)\n",
    "\n",
    "tflite_model = converter.convert()\n",
    "\n",
    "with open('bees-wasps.tflite', 'wb') as f_out:\n",
    "    f_out.write(tflite_model)"
   ]
  },
  {
   "cell_type": "code",
   "execution_count": null,
   "id": "546ffbd7",
   "metadata": {},
   "outputs": [],
   "source": [
    "import os\n",
    "os.path.getsize('./bees-wasps.tflite')"
   ]
  },
  {
   "cell_type": "code",
   "execution_count": null,
   "id": "5c9190f1",
   "metadata": {},
   "outputs": [],
   "source": [
    "#Q1 = 44866200"
   ]
  },
  {
   "cell_type": "code",
   "execution_count": null,
   "id": "94ce98cd",
   "metadata": {},
   "outputs": [],
   "source": [
    "interpreter = tflite.Interpreter(model_path='bees-wasps.tflite')\n",
    "interpreter.allocate_tensors()\n",
    "\n",
    "input_index = interpreter.get_input_details()[0]['index']\n",
    "output_index = interpreter.get_output_details()[0]['index']"
   ]
  },
  {
   "cell_type": "code",
   "execution_count": null,
   "id": "ac509f5e",
   "metadata": {},
   "outputs": [],
   "source": []
  },
  {
   "cell_type": "code",
   "execution_count": null,
   "id": "c5cb886e",
   "metadata": {
    "scrolled": false
   },
   "outputs": [],
   "source": [
    "interpreter.get_tensor_details()"
   ]
  },
  {
   "cell_type": "code",
   "execution_count": null,
   "id": "87dbc36b",
   "metadata": {},
   "outputs": [],
   "source": [
    "interpreter.get_output_details()[0]"
   ]
  },
  {
   "cell_type": "code",
   "execution_count": null,
   "id": "c9f2f8a5",
   "metadata": {},
   "outputs": [],
   "source": [
    "input_index"
   ]
  },
  {
   "cell_type": "code",
   "execution_count": null,
   "id": "d2ea505c",
   "metadata": {},
   "outputs": [],
   "source": [
    "output_index"
   ]
  },
  {
   "cell_type": "code",
   "execution_count": null,
   "id": "55265161",
   "metadata": {},
   "outputs": [],
   "source": [
    "#Q2 13"
   ]
  },
  {
   "cell_type": "code",
   "execution_count": null,
   "id": "b4710b0a",
   "metadata": {},
   "outputs": [],
   "source": [
    "from io import BytesIO\n",
    "from urllib import request\n",
    "from PIL import Image\n",
    "\n",
    "def download_image(url):\n",
    "    with request.urlopen(url) as resp:\n",
    "        buffer = resp.read()\n",
    "    stream = BytesIO(buffer)\n",
    "    img = Image.open(stream)\n",
    "    return img\n",
    "\n",
    "\n",
    "def prepare_image(img, target_size):\n",
    "    if img.mode != 'RGB':\n",
    "        img = img.convert('RGB')\n",
    "    img = img.resize(target_size, Image.NEAREST)\n",
    "    return img\n",
    "\n",
    "\n",
    "def preprocess_input(x):\n",
    "    x /= 255\n",
    "    x -= 1.\n",
    "    return x"
   ]
  },
  {
   "cell_type": "code",
   "execution_count": null,
   "id": "0daf1107",
   "metadata": {},
   "outputs": [],
   "source": [
    "def prepare_input(x):\n",
    "    return x / 255.0"
   ]
  },
  {
   "cell_type": "code",
   "execution_count": null,
   "id": "f746e5f2",
   "metadata": {},
   "outputs": [],
   "source": [
    "img_dl = download_image('https://habrastorage.org/webt/rt/d9/dh/rtd9dhsmhwrdezeldzoqgijdg8a.jpeg')"
   ]
  },
  {
   "cell_type": "code",
   "execution_count": null,
   "id": "7168f466",
   "metadata": {},
   "outputs": [],
   "source": [
    "img_prep = prepare_image(img_dl,(150,150))"
   ]
  },
  {
   "cell_type": "code",
   "execution_count": null,
   "id": "5c96fc0c",
   "metadata": {},
   "outputs": [],
   "source": [
    "img_prep"
   ]
  },
  {
   "cell_type": "code",
   "execution_count": null,
   "id": "4fcc0b0a",
   "metadata": {},
   "outputs": [],
   "source": [
    "x = np.array(img_prep, dtype='float32')\n",
    "X = np.array([x])\n",
    "\n",
    "#X = preprocess_input(X)\n",
    "X = prepare_input(X)\n"
   ]
  },
  {
   "cell_type": "code",
   "execution_count": null,
   "id": "40972439",
   "metadata": {},
   "outputs": [],
   "source": [
    "X.shape"
   ]
  },
  {
   "cell_type": "code",
   "execution_count": null,
   "id": "d8ae8bfd",
   "metadata": {},
   "outputs": [],
   "source": [
    "X[0, 0, 0]"
   ]
  },
  {
   "cell_type": "code",
   "execution_count": null,
   "id": "bc4ce15c",
   "metadata": {},
   "outputs": [],
   "source": [
    "#Q3 = 0.94"
   ]
  },
  {
   "cell_type": "code",
   "execution_count": null,
   "id": "732a448c",
   "metadata": {},
   "outputs": [],
   "source": [
    "interpreter.set_tensor(input_index,X)\n",
    "interpreter.invoke()\n",
    "preds = interpreter.get_tensor(output_index)"
   ]
  },
  {
   "cell_type": "code",
   "execution_count": null,
   "id": "25f68c79",
   "metadata": {},
   "outputs": [],
   "source": [
    "preds"
   ]
  },
  {
   "cell_type": "code",
   "execution_count": null,
   "id": "e366a070",
   "metadata": {},
   "outputs": [],
   "source": [
    "#Q4 0.65"
   ]
  },
  {
   "cell_type": "code",
   "execution_count": null,
   "id": "64c7c439",
   "metadata": {},
   "outputs": [],
   "source": [
    "#Docker Q5 662mb"
   ]
  },
  {
   "cell_type": "code",
   "execution_count": null,
   "id": "a7252e20",
   "metadata": {},
   "outputs": [],
   "source": [
    "#Q6 0.45"
   ]
  },
  {
   "cell_type": "code",
   "execution_count": null,
   "id": "d73b2449",
   "metadata": {},
   "outputs": [],
   "source": []
  },
  {
   "cell_type": "code",
   "execution_count": null,
   "id": "591bb96b",
   "metadata": {},
   "outputs": [],
   "source": []
  },
  {
   "cell_type": "code",
   "execution_count": null,
   "id": "eca4ac3a",
   "metadata": {},
   "outputs": [],
   "source": []
  },
  {
   "cell_type": "code",
   "execution_count": null,
   "id": "231e024e",
   "metadata": {},
   "outputs": [],
   "source": []
  },
  {
   "cell_type": "code",
   "execution_count": null,
   "id": "348a75e2",
   "metadata": {},
   "outputs": [],
   "source": []
  },
  {
   "cell_type": "code",
   "execution_count": null,
   "id": "633e8230",
   "metadata": {},
   "outputs": [],
   "source": []
  },
  {
   "cell_type": "code",
   "execution_count": null,
   "id": "b0e99206",
   "metadata": {},
   "outputs": [],
   "source": []
  }
 ],
 "metadata": {
  "kernelspec": {
   "display_name": "Python 3 (ipykernel)",
   "language": "python",
   "name": "python3"
  },
  "language_info": {
   "codemirror_mode": {
    "name": "ipython",
    "version": 3
   },
   "file_extension": ".py",
   "mimetype": "text/x-python",
   "name": "python",
   "nbconvert_exporter": "python",
   "pygments_lexer": "ipython3",
   "version": "3.9.13"
  }
 },
 "nbformat": 4,
 "nbformat_minor": 5
}
